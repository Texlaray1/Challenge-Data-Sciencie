{
  "nbformat": 4,
  "nbformat_minor": 0,
  "metadata": {
    "colab": {
      "provenance": [],
      "toc_visible": true
    },
    "kernelspec": {
      "name": "python3",
      "display_name": "Python 3"
    },
    "language_info": {
      "name": "python"
    }
  },
  "cells": [
    {
      "cell_type": "markdown",
      "source": [
        "### Importación de datos\n",
        "\n"
      ],
      "metadata": {
        "id": "RhEdWd9YUR6H"
      }
    },
    {
      "cell_type": "code",
      "execution_count": 6,
      "metadata": {
        "colab": {
          "base_uri": "https://localhost:8080/",
          "height": 399
        },
        "id": "T3EvaeQ_INIL",
        "outputId": "2d888af4-9227-4b3a-deb5-32536549edf3"
      },
      "outputs": [
        {
          "output_type": "execute_result",
          "data": {
            "text/plain": [
              "            Producto Categoría del Producto    Precio  Costo de envío  \\\n",
              "0  Asistente virtual           Electrónicos  164300.0          6900.0   \n",
              "1    Mesa de comedor                Muebles  192300.0          8400.0   \n",
              "2      Juego de mesa               Juguetes  209600.0         15900.0   \n",
              "3         Microondas      Electrodomésticos  757500.0         41000.0   \n",
              "4   Silla de oficina                Muebles  335200.0         20200.0   \n",
              "\n",
              "  Fecha de Compra         Vendedor Lugar de Compra  Calificación  \\\n",
              "0      16/01/2021      Pedro Gomez          Bogotá             4   \n",
              "1      18/05/2022  Beatriz Morales        Medellín             1   \n",
              "2      15/03/2021   Juan Fernandez       Cartagena             1   \n",
              "3      03/05/2022   Juan Fernandez            Cali             4   \n",
              "4      07/11/2020    Maria Alfonso        Medellín             5   \n",
              "\n",
              "       Método de pago  Cantidad de cuotas       lat       lon  \n",
              "0  Tarjeta de crédito                   8   4.60971 -74.08175  \n",
              "1  Tarjeta de crédito                   4   6.25184 -75.56359  \n",
              "2  Tarjeta de crédito                   1  10.39972 -75.51444  \n",
              "3               Nequi                   1   3.43722 -76.52250  \n",
              "4               Nequi                   1   6.25184 -75.56359  "
            ],
            "text/html": [
              "\n",
              "  <div id=\"df-5abab194-75b7-47dc-8476-09724886009c\" class=\"colab-df-container\">\n",
              "    <div>\n",
              "<style scoped>\n",
              "    .dataframe tbody tr th:only-of-type {\n",
              "        vertical-align: middle;\n",
              "    }\n",
              "\n",
              "    .dataframe tbody tr th {\n",
              "        vertical-align: top;\n",
              "    }\n",
              "\n",
              "    .dataframe thead th {\n",
              "        text-align: right;\n",
              "    }\n",
              "</style>\n",
              "<table border=\"1\" class=\"dataframe\">\n",
              "  <thead>\n",
              "    <tr style=\"text-align: right;\">\n",
              "      <th></th>\n",
              "      <th>Producto</th>\n",
              "      <th>Categoría del Producto</th>\n",
              "      <th>Precio</th>\n",
              "      <th>Costo de envío</th>\n",
              "      <th>Fecha de Compra</th>\n",
              "      <th>Vendedor</th>\n",
              "      <th>Lugar de Compra</th>\n",
              "      <th>Calificación</th>\n",
              "      <th>Método de pago</th>\n",
              "      <th>Cantidad de cuotas</th>\n",
              "      <th>lat</th>\n",
              "      <th>lon</th>\n",
              "    </tr>\n",
              "  </thead>\n",
              "  <tbody>\n",
              "    <tr>\n",
              "      <th>0</th>\n",
              "      <td>Asistente virtual</td>\n",
              "      <td>Electrónicos</td>\n",
              "      <td>164300.0</td>\n",
              "      <td>6900.0</td>\n",
              "      <td>16/01/2021</td>\n",
              "      <td>Pedro Gomez</td>\n",
              "      <td>Bogotá</td>\n",
              "      <td>4</td>\n",
              "      <td>Tarjeta de crédito</td>\n",
              "      <td>8</td>\n",
              "      <td>4.60971</td>\n",
              "      <td>-74.08175</td>\n",
              "    </tr>\n",
              "    <tr>\n",
              "      <th>1</th>\n",
              "      <td>Mesa de comedor</td>\n",
              "      <td>Muebles</td>\n",
              "      <td>192300.0</td>\n",
              "      <td>8400.0</td>\n",
              "      <td>18/05/2022</td>\n",
              "      <td>Beatriz Morales</td>\n",
              "      <td>Medellín</td>\n",
              "      <td>1</td>\n",
              "      <td>Tarjeta de crédito</td>\n",
              "      <td>4</td>\n",
              "      <td>6.25184</td>\n",
              "      <td>-75.56359</td>\n",
              "    </tr>\n",
              "    <tr>\n",
              "      <th>2</th>\n",
              "      <td>Juego de mesa</td>\n",
              "      <td>Juguetes</td>\n",
              "      <td>209600.0</td>\n",
              "      <td>15900.0</td>\n",
              "      <td>15/03/2021</td>\n",
              "      <td>Juan Fernandez</td>\n",
              "      <td>Cartagena</td>\n",
              "      <td>1</td>\n",
              "      <td>Tarjeta de crédito</td>\n",
              "      <td>1</td>\n",
              "      <td>10.39972</td>\n",
              "      <td>-75.51444</td>\n",
              "    </tr>\n",
              "    <tr>\n",
              "      <th>3</th>\n",
              "      <td>Microondas</td>\n",
              "      <td>Electrodomésticos</td>\n",
              "      <td>757500.0</td>\n",
              "      <td>41000.0</td>\n",
              "      <td>03/05/2022</td>\n",
              "      <td>Juan Fernandez</td>\n",
              "      <td>Cali</td>\n",
              "      <td>4</td>\n",
              "      <td>Nequi</td>\n",
              "      <td>1</td>\n",
              "      <td>3.43722</td>\n",
              "      <td>-76.52250</td>\n",
              "    </tr>\n",
              "    <tr>\n",
              "      <th>4</th>\n",
              "      <td>Silla de oficina</td>\n",
              "      <td>Muebles</td>\n",
              "      <td>335200.0</td>\n",
              "      <td>20200.0</td>\n",
              "      <td>07/11/2020</td>\n",
              "      <td>Maria Alfonso</td>\n",
              "      <td>Medellín</td>\n",
              "      <td>5</td>\n",
              "      <td>Nequi</td>\n",
              "      <td>1</td>\n",
              "      <td>6.25184</td>\n",
              "      <td>-75.56359</td>\n",
              "    </tr>\n",
              "  </tbody>\n",
              "</table>\n",
              "</div>\n",
              "    <div class=\"colab-df-buttons\">\n",
              "\n",
              "  <div class=\"colab-df-container\">\n",
              "    <button class=\"colab-df-convert\" onclick=\"convertToInteractive('df-5abab194-75b7-47dc-8476-09724886009c')\"\n",
              "            title=\"Convert this dataframe to an interactive table.\"\n",
              "            style=\"display:none;\">\n",
              "\n",
              "  <svg xmlns=\"http://www.w3.org/2000/svg\" height=\"24px\" viewBox=\"0 -960 960 960\">\n",
              "    <path d=\"M120-120v-720h720v720H120Zm60-500h600v-160H180v160Zm220 220h160v-160H400v160Zm0 220h160v-160H400v160ZM180-400h160v-160H180v160Zm440 0h160v-160H620v160ZM180-180h160v-160H180v160Zm440 0h160v-160H620v160Z\"/>\n",
              "  </svg>\n",
              "    </button>\n",
              "\n",
              "  <style>\n",
              "    .colab-df-container {\n",
              "      display:flex;\n",
              "      gap: 12px;\n",
              "    }\n",
              "\n",
              "    .colab-df-convert {\n",
              "      background-color: #E8F0FE;\n",
              "      border: none;\n",
              "      border-radius: 50%;\n",
              "      cursor: pointer;\n",
              "      display: none;\n",
              "      fill: #1967D2;\n",
              "      height: 32px;\n",
              "      padding: 0 0 0 0;\n",
              "      width: 32px;\n",
              "    }\n",
              "\n",
              "    .colab-df-convert:hover {\n",
              "      background-color: #E2EBFA;\n",
              "      box-shadow: 0px 1px 2px rgba(60, 64, 67, 0.3), 0px 1px 3px 1px rgba(60, 64, 67, 0.15);\n",
              "      fill: #174EA6;\n",
              "    }\n",
              "\n",
              "    .colab-df-buttons div {\n",
              "      margin-bottom: 4px;\n",
              "    }\n",
              "\n",
              "    [theme=dark] .colab-df-convert {\n",
              "      background-color: #3B4455;\n",
              "      fill: #D2E3FC;\n",
              "    }\n",
              "\n",
              "    [theme=dark] .colab-df-convert:hover {\n",
              "      background-color: #434B5C;\n",
              "      box-shadow: 0px 1px 3px 1px rgba(0, 0, 0, 0.15);\n",
              "      filter: drop-shadow(0px 1px 2px rgba(0, 0, 0, 0.3));\n",
              "      fill: #FFFFFF;\n",
              "    }\n",
              "  </style>\n",
              "\n",
              "    <script>\n",
              "      const buttonEl =\n",
              "        document.querySelector('#df-5abab194-75b7-47dc-8476-09724886009c button.colab-df-convert');\n",
              "      buttonEl.style.display =\n",
              "        google.colab.kernel.accessAllowed ? 'block' : 'none';\n",
              "\n",
              "      async function convertToInteractive(key) {\n",
              "        const element = document.querySelector('#df-5abab194-75b7-47dc-8476-09724886009c');\n",
              "        const dataTable =\n",
              "          await google.colab.kernel.invokeFunction('convertToInteractive',\n",
              "                                                    [key], {});\n",
              "        if (!dataTable) return;\n",
              "\n",
              "        const docLinkHtml = 'Like what you see? Visit the ' +\n",
              "          '<a target=\"_blank\" href=https://colab.research.google.com/notebooks/data_table.ipynb>data table notebook</a>'\n",
              "          + ' to learn more about interactive tables.';\n",
              "        element.innerHTML = '';\n",
              "        dataTable['output_type'] = 'display_data';\n",
              "        await google.colab.output.renderOutput(dataTable, element);\n",
              "        const docLink = document.createElement('div');\n",
              "        docLink.innerHTML = docLinkHtml;\n",
              "        element.appendChild(docLink);\n",
              "      }\n",
              "    </script>\n",
              "  </div>\n",
              "\n",
              "\n",
              "<div id=\"df-21e132c2-0f37-40ae-9755-d29b9b69e52e\">\n",
              "  <button class=\"colab-df-quickchart\" onclick=\"quickchart('df-21e132c2-0f37-40ae-9755-d29b9b69e52e')\"\n",
              "            title=\"Suggest charts\"\n",
              "            style=\"display:none;\">\n",
              "\n",
              "<svg xmlns=\"http://www.w3.org/2000/svg\" height=\"24px\"viewBox=\"0 0 24 24\"\n",
              "     width=\"24px\">\n",
              "    <g>\n",
              "        <path d=\"M19 3H5c-1.1 0-2 .9-2 2v14c0 1.1.9 2 2 2h14c1.1 0 2-.9 2-2V5c0-1.1-.9-2-2-2zM9 17H7v-7h2v7zm4 0h-2V7h2v10zm4 0h-2v-4h2v4z\"/>\n",
              "    </g>\n",
              "</svg>\n",
              "  </button>\n",
              "\n",
              "<style>\n",
              "  .colab-df-quickchart {\n",
              "      --bg-color: #E8F0FE;\n",
              "      --fill-color: #1967D2;\n",
              "      --hover-bg-color: #E2EBFA;\n",
              "      --hover-fill-color: #174EA6;\n",
              "      --disabled-fill-color: #AAA;\n",
              "      --disabled-bg-color: #DDD;\n",
              "  }\n",
              "\n",
              "  [theme=dark] .colab-df-quickchart {\n",
              "      --bg-color: #3B4455;\n",
              "      --fill-color: #D2E3FC;\n",
              "      --hover-bg-color: #434B5C;\n",
              "      --hover-fill-color: #FFFFFF;\n",
              "      --disabled-bg-color: #3B4455;\n",
              "      --disabled-fill-color: #666;\n",
              "  }\n",
              "\n",
              "  .colab-df-quickchart {\n",
              "    background-color: var(--bg-color);\n",
              "    border: none;\n",
              "    border-radius: 50%;\n",
              "    cursor: pointer;\n",
              "    display: none;\n",
              "    fill: var(--fill-color);\n",
              "    height: 32px;\n",
              "    padding: 0;\n",
              "    width: 32px;\n",
              "  }\n",
              "\n",
              "  .colab-df-quickchart:hover {\n",
              "    background-color: var(--hover-bg-color);\n",
              "    box-shadow: 0 1px 2px rgba(60, 64, 67, 0.3), 0 1px 3px 1px rgba(60, 64, 67, 0.15);\n",
              "    fill: var(--button-hover-fill-color);\n",
              "  }\n",
              "\n",
              "  .colab-df-quickchart-complete:disabled,\n",
              "  .colab-df-quickchart-complete:disabled:hover {\n",
              "    background-color: var(--disabled-bg-color);\n",
              "    fill: var(--disabled-fill-color);\n",
              "    box-shadow: none;\n",
              "  }\n",
              "\n",
              "  .colab-df-spinner {\n",
              "    border: 2px solid var(--fill-color);\n",
              "    border-color: transparent;\n",
              "    border-bottom-color: var(--fill-color);\n",
              "    animation:\n",
              "      spin 1s steps(1) infinite;\n",
              "  }\n",
              "\n",
              "  @keyframes spin {\n",
              "    0% {\n",
              "      border-color: transparent;\n",
              "      border-bottom-color: var(--fill-color);\n",
              "      border-left-color: var(--fill-color);\n",
              "    }\n",
              "    20% {\n",
              "      border-color: transparent;\n",
              "      border-left-color: var(--fill-color);\n",
              "      border-top-color: var(--fill-color);\n",
              "    }\n",
              "    30% {\n",
              "      border-color: transparent;\n",
              "      border-left-color: var(--fill-color);\n",
              "      border-top-color: var(--fill-color);\n",
              "      border-right-color: var(--fill-color);\n",
              "    }\n",
              "    40% {\n",
              "      border-color: transparent;\n",
              "      border-right-color: var(--fill-color);\n",
              "      border-top-color: var(--fill-color);\n",
              "    }\n",
              "    60% {\n",
              "      border-color: transparent;\n",
              "      border-right-color: var(--fill-color);\n",
              "    }\n",
              "    80% {\n",
              "      border-color: transparent;\n",
              "      border-right-color: var(--fill-color);\n",
              "      border-bottom-color: var(--fill-color);\n",
              "    }\n",
              "    90% {\n",
              "      border-color: transparent;\n",
              "      border-bottom-color: var(--fill-color);\n",
              "    }\n",
              "  }\n",
              "</style>\n",
              "\n",
              "  <script>\n",
              "    async function quickchart(key) {\n",
              "      const quickchartButtonEl =\n",
              "        document.querySelector('#' + key + ' button');\n",
              "      quickchartButtonEl.disabled = true;  // To prevent multiple clicks.\n",
              "      quickchartButtonEl.classList.add('colab-df-spinner');\n",
              "      try {\n",
              "        const charts = await google.colab.kernel.invokeFunction(\n",
              "            'suggestCharts', [key], {});\n",
              "      } catch (error) {\n",
              "        console.error('Error during call to suggestCharts:', error);\n",
              "      }\n",
              "      quickchartButtonEl.classList.remove('colab-df-spinner');\n",
              "      quickchartButtonEl.classList.add('colab-df-quickchart-complete');\n",
              "    }\n",
              "    (() => {\n",
              "      let quickchartButtonEl =\n",
              "        document.querySelector('#df-21e132c2-0f37-40ae-9755-d29b9b69e52e button');\n",
              "      quickchartButtonEl.style.display =\n",
              "        google.colab.kernel.accessAllowed ? 'block' : 'none';\n",
              "    })();\n",
              "  </script>\n",
              "</div>\n",
              "\n",
              "    </div>\n",
              "  </div>\n"
            ],
            "application/vnd.google.colaboratory.intrinsic+json": {
              "type": "dataframe",
              "variable_name": "tienda",
              "summary": "{\n  \"name\": \"tienda\",\n  \"rows\": 2359,\n  \"fields\": [\n    {\n      \"column\": \"Producto\",\n      \"properties\": {\n        \"dtype\": \"category\",\n        \"num_unique_values\": 51,\n        \"samples\": [\n          \"Guitarra ac\\u00fastica\",\n          \"Bal\\u00f3n de baloncesto\",\n          \"Smartwatch\"\n        ],\n        \"semantic_type\": \"\",\n        \"description\": \"\"\n      }\n    },\n    {\n      \"column\": \"Categor\\u00eda del Producto\",\n      \"properties\": {\n        \"dtype\": \"category\",\n        \"num_unique_values\": 8,\n        \"samples\": [\n          \"Muebles\",\n          \"Deportes y diversi\\u00f3n\",\n          \"Electr\\u00f3nicos\"\n        ],\n        \"semantic_type\": \"\",\n        \"description\": \"\"\n      }\n    },\n    {\n      \"column\": \"Precio\",\n      \"properties\": {\n        \"dtype\": \"number\",\n        \"std\": 614686.7653873172,\n        \"min\": 7600.0,\n        \"max\": 2977000.0,\n        \"num_unique_values\": 1937,\n        \"samples\": [\n          2499400.0,\n          14800.0,\n          80500.0\n        ],\n        \"semantic_type\": \"\",\n        \"description\": \"\"\n      }\n    },\n    {\n      \"column\": \"Costo de env\\u00edo\",\n      \"properties\": {\n        \"dtype\": \"number\",\n        \"std\": 32860.0017825605,\n        \"min\": 0.0,\n        \"max\": 160800.0,\n        \"num_unique_values\": 753,\n        \"samples\": [\n          117800.0,\n          54700.0,\n          45600.0\n        ],\n        \"semantic_type\": \"\",\n        \"description\": \"\"\n      }\n    },\n    {\n      \"column\": \"Fecha de Compra\",\n      \"properties\": {\n        \"dtype\": \"object\",\n        \"num_unique_values\": 1018,\n        \"samples\": [\n          \"15/09/2022\",\n          \"03/06/2020\",\n          \"06/11/2021\"\n        ],\n        \"semantic_type\": \"\",\n        \"description\": \"\"\n      }\n    },\n    {\n      \"column\": \"Vendedor\",\n      \"properties\": {\n        \"dtype\": \"category\",\n        \"num_unique_values\": 14,\n        \"samples\": [\n          \"Juliana Costa\",\n          \"Mariana Herrera\",\n          \"Pedro Gomez\"\n        ],\n        \"semantic_type\": \"\",\n        \"description\": \"\"\n      }\n    },\n    {\n      \"column\": \"Lugar de Compra\",\n      \"properties\": {\n        \"dtype\": \"category\",\n        \"num_unique_values\": 19,\n        \"samples\": [\n          \"Bogot\\u00e1\",\n          \"Pereira\",\n          \"Neiva\"\n        ],\n        \"semantic_type\": \"\",\n        \"description\": \"\"\n      }\n    },\n    {\n      \"column\": \"Calificaci\\u00f3n\",\n      \"properties\": {\n        \"dtype\": \"number\",\n        \"std\": 1,\n        \"min\": 1,\n        \"max\": 5,\n        \"num_unique_values\": 5,\n        \"samples\": [\n          1,\n          2,\n          5\n        ],\n        \"semantic_type\": \"\",\n        \"description\": \"\"\n      }\n    },\n    {\n      \"column\": \"M\\u00e9todo de pago\",\n      \"properties\": {\n        \"dtype\": \"category\",\n        \"num_unique_values\": 4,\n        \"samples\": [\n          \"Nequi\",\n          \"Tarjeta de d\\u00e9bito\",\n          \"Tarjeta de cr\\u00e9dito\"\n        ],\n        \"semantic_type\": \"\",\n        \"description\": \"\"\n      }\n    },\n    {\n      \"column\": \"Cantidad de cuotas\",\n      \"properties\": {\n        \"dtype\": \"number\",\n        \"std\": 2,\n        \"min\": 1,\n        \"max\": 24,\n        \"num_unique_values\": 15,\n        \"samples\": [\n          7,\n          14,\n          8\n        ],\n        \"semantic_type\": \"\",\n        \"description\": \"\"\n      }\n    },\n    {\n      \"column\": \"lat\",\n      \"properties\": {\n        \"dtype\": \"number\",\n        \"std\": 2.2874452492678627,\n        \"min\": -4.21528,\n        \"max\": 11.54444,\n        \"num_unique_values\": 19,\n        \"samples\": [\n          4.60971,\n          4.81333,\n          2.9273\n        ],\n        \"semantic_type\": \"\",\n        \"description\": \"\"\n      }\n    },\n    {\n      \"column\": \"lon\",\n      \"properties\": {\n        \"dtype\": \"number\",\n        \"std\": 1.2178272727088486,\n        \"min\": -77.28111,\n        \"max\": -67.9239,\n        \"num_unique_values\": 19,\n        \"samples\": [\n          -74.08175,\n          -75.69611,\n          -75.28189\n        ],\n        \"semantic_type\": \"\",\n        \"description\": \"\"\n      }\n    }\n  ]\n}"
            }
          },
          "metadata": {},
          "execution_count": 6
        }
      ],
      "source": [
        "import pandas as pd\n",
        "\n",
        "url = \"https://raw.githubusercontent.com/alura-es-cursos/challenge1-data-science-latam/refs/heads/main/base-de-datos-challenge1-latam/tienda_1%20.csv\"\n",
        "url2 = \"https://raw.githubusercontent.com/alura-es-cursos/challenge1-data-science-latam/refs/heads/main/base-de-datos-challenge1-latam/tienda_2.csv\"\n",
        "url3 = \"https://raw.githubusercontent.com/alura-es-cursos/challenge1-data-science-latam/refs/heads/main/base-de-datos-challenge1-latam/tienda_3.csv\"\n",
        "url4 = \"https://raw.githubusercontent.com/alura-es-cursos/challenge1-data-science-latam/refs/heads/main/base-de-datos-challenge1-latam/tienda_4.csv\"\n",
        "\n",
        "tienda = pd.read_csv(url)\n",
        "tienda2 = pd.read_csv(url2)\n",
        "tienda3 = pd.read_csv(url3)\n",
        "tienda4 = pd.read_csv(url4)\n",
        "\n",
        "tienda.head()"
      ]
    },
    {
      "cell_type": "markdown",
      "source": [
        "#1. Análisis de facturación\n",
        "\n"
      ],
      "metadata": {
        "id": "X62IW3KFUIYm"
      }
    },
    {
      "cell_type": "code",
      "source": [
        "#Convertir el dataframe tienda a una lista de diccionarios.\n",
        "t1 = tienda.to_dict(\"records\")\n",
        "t2 = tienda2.to_dict(\"records\")\n",
        "t3 = tienda3.to_dict(\"records\")\n",
        "t4 = tienda4.to_dict(\"records\")\n"
      ],
      "metadata": {
        "id": "KDyr8E71V3m-"
      },
      "execution_count": 7,
      "outputs": []
    },
    {
      "cell_type": "code",
      "source": [
        "#Crea las categorías de cada tienda.\n",
        "categorias = [\n",
        "    \"Artículos para el hogar\",\n",
        "    \"Deportes y diversión\",\n",
        "    \"Electrodomésticos\",\n",
        "    \"Electrónicos\",\n",
        "    \"Instrumentos musicales\",\n",
        "    \"Juguetes\",\n",
        "    \"Libros\",\n",
        "    \"Muebles\"\n",
        "]\n",
        "\n",
        "\n",
        "\n",
        "\n",
        "\n"
      ],
      "metadata": {
        "id": "xykobSftV64I"
      },
      "execution_count": 8,
      "outputs": []
    },
    {
      "cell_type": "code",
      "source": [
        "#Crear el diccionario suma_tx para guardar los nombres de categorías por productos y sumar.\n",
        "suma_t1 = {cat: 0 for cat in categorias}\n",
        "suma_t2 = {cat: 0 for cat in categorias}\n",
        "suma_t3 = {cat: 0 for cat in categorias}\n",
        "suma_t4 = {cat: 0 for cat in categorias}"
      ],
      "metadata": {
        "id": "Ry7SqhaUMkFk"
      },
      "execution_count": 9,
      "outputs": []
    },
    {
      "cell_type": "code",
      "source": [
        "#Itera uno por uno los productos de las tienda 1, tomando la categoría y el precio de ese producto\n",
        "# Si la categoría existe suma el precio al total acumulado.\n",
        "for producto in t1:\n",
        "    categoria = producto[\"Categoría del Producto\"]\n",
        "    precio = producto[\"Precio\"]\n",
        "    if categoria in suma_t1:\n",
        "        suma_t1[categoria] += precio"
      ],
      "metadata": {
        "id": "m5Xs2KoOMtko"
      },
      "execution_count": 10,
      "outputs": []
    },
    {
      "cell_type": "code",
      "source": [
        "#Idem al anterior\n",
        "for producto in t2:\n",
        "    categoria = producto[\"Categoría del Producto\"]\n",
        "    precio = producto[\"Precio\"]\n",
        "    if categoria in suma_t2:\n",
        "        suma_t2[categoria] += precio"
      ],
      "metadata": {
        "id": "4OT_PG_XMtRz"
      },
      "execution_count": 11,
      "outputs": []
    },
    {
      "cell_type": "code",
      "source": [
        "#Idem al anterior\n",
        "for producto in t3:\n",
        "    categoria = producto[\"Categoría del Producto\"]\n",
        "    precio = producto[\"Precio\"]\n",
        "    if categoria in suma_t3:\n",
        "        suma_t3[categoria] += precio"
      ],
      "metadata": {
        "id": "ncpXBjpWMtGL"
      },
      "execution_count": 12,
      "outputs": []
    },
    {
      "cell_type": "code",
      "source": [
        "#Idem al anterior\n",
        "for producto in t4:\n",
        "    categoria = producto[\"Categoría del Producto\"]\n",
        "    precio = producto[\"Precio\"]\n",
        "    if categoria in suma_t4:\n",
        "        suma_t4[categoria] += precio"
      ],
      "metadata": {
        "id": "3r_OLERtM2CU"
      },
      "execution_count": 13,
      "outputs": []
    },
    {
      "cell_type": "code",
      "source": [
        "#Imprime los resultados esperados por cada categoría de las tiendas.\n",
        "print(\"Suma por categoría - Tienda 1:\", suma_t1)\n",
        "print(\"Suma por categoría - Tienda 2:\", suma_t2)\n",
        "print(\"Suma por categoría - Tienda 3:\", suma_t3)\n",
        "print(\"Suma por categoría - Tienda 4:\", suma_t4)"
      ],
      "metadata": {
        "colab": {
          "base_uri": "https://localhost:8080/"
        },
        "id": "QOkbHhF-M12K",
        "outputId": "1f7d3574-5492-4ad4-b57d-575c247ec9af"
      },
      "execution_count": 14,
      "outputs": [
        {
          "output_type": "stream",
          "name": "stdout",
          "text": [
            "Suma por categoría - Tienda 1: {'Artículos para el hogar': 12698400.0, 'Deportes y diversión': 39290000.0, 'Electrodomésticos': 363685200.0, 'Electrónicos': 429493500.0, 'Instrumentos musicales': 91299000.0, 'Juguetes': 17995700.0, 'Libros': 8784900.0, 'Muebles': 187633700.0}\n",
            "Suma por categoría - Tienda 2: {'Artículos para el hogar': 14746900.0, 'Deportes y diversión': 34744500.0, 'Electrodomésticos': 348567800.0, 'Electrónicos': 410831100.0, 'Instrumentos musicales': 104990300.0, 'Juguetes': 15945400.0, 'Libros': 10091200.0, 'Muebles': 176426300.0}\n",
            "Suma por categoría - Tienda 3: {'Artículos para el hogar': 15060000.0, 'Deportes y diversión': 35593100.0, 'Electrodomésticos': 329237900.0, 'Electrónicos': 410775800.0, 'Instrumentos musicales': 77380900.0, 'Juguetes': 19401100.0, 'Libros': 9498700.0, 'Muebles': 201072100.0}\n",
            "Suma por categoría - Tienda 4: {'Artículos para el hogar': 15074500.0, 'Deportes y diversión': 33350100.0, 'Electrodomésticos': 283260200.0, 'Electrónicos': 409476100.0, 'Instrumentos musicales': 75102400.0, 'Juguetes': 20262200.0, 'Libros': 9321300.0, 'Muebles': 192528900.0}\n"
          ]
        }
      ]
    },
    {
      "cell_type": "code",
      "source": [
        "#Crea el diccionario nuevo llamado suma_total para obtener las ventas por categoría.\n",
        "suma_total = {cat: suma_t1[cat] + suma_t2[cat] + suma_t3[cat] + suma_t4[cat] for cat in categorias}\n",
        "\n"
      ],
      "metadata": {
        "id": "4mYF-UWVvtLJ"
      },
      "execution_count": 15,
      "outputs": []
    },
    {
      "cell_type": "code",
      "source": [
        "#Aplicamos el método values para obtener solo los valores\n",
        "facturacion_total = sum(suma_total.values())"
      ],
      "metadata": {
        "id": "sx5_26BZNKzU"
      },
      "execution_count": 16,
      "outputs": []
    },
    {
      "cell_type": "code",
      "source": [
        "#Imprime los resultados esperados\n",
        "print(\"\\nTotal por categoría (4 tiendas):\", suma_total)\n",
        "print(\"\\nFacturación total:\", facturacion_total)"
      ],
      "metadata": {
        "colab": {
          "base_uri": "https://localhost:8080/"
        },
        "id": "XizMkVxKNKc2",
        "outputId": "9cde38c5-e9a0-4d98-a938-4242a3be13cb"
      },
      "execution_count": 17,
      "outputs": [
        {
          "output_type": "stream",
          "name": "stdout",
          "text": [
            "\n",
            "Total por categoría (4 tiendas): {'Artículos para el hogar': 57579800.0, 'Deportes y diversión': 142977700.0, 'Electrodomésticos': 1324751100.0, 'Electrónicos': 1660576500.0, 'Instrumentos musicales': 348772600.0, 'Juguetes': 73604400.0, 'Libros': 37696100.0, 'Muebles': 757661000.0}\n",
            "\n",
            "Facturación total: 4403619200.0\n"
          ]
        }
      ]
    },
    {
      "cell_type": "code",
      "source": [
        "#Importar pyplot\n",
        "from matplotlib import pyplot as plt"
      ],
      "metadata": {
        "id": "yrg_Ud9t3Nkt"
      },
      "execution_count": 18,
      "outputs": []
    },
    {
      "cell_type": "code",
      "source": [
        "#Sumatoria calculada anteriormente enlistada\n",
        "categorias = list(suma_total.keys())\n",
        "valores = list(suma_total.values())"
      ],
      "metadata": {
        "id": "J8NtnD303XU4"
      },
      "execution_count": 19,
      "outputs": []
    },
    {
      "cell_type": "code",
      "source": [
        "#Crear la figura indicando el tamaño, el tpitulo, la etiqueta\n",
        "#Crea rotaci[on para que las etiquetas no se amontonen\n",
        "#Crea el ajuste automatico para los espacios del gráfico.\n",
        "plt.figure(figsize=(10, 6))\n",
        "plt.bar(categorias, valores)\n",
        "plt.title(\"Total vendido por categoría (4 tiendas)\")\n",
        "plt.xlabel(\"Categorías\")\n",
        "plt.ylabel(\"Ventas en Lempiras\")\n",
        "plt.xticks(rotation=45)\n",
        "plt.tight_layout()\n",
        "plt.show()"
      ],
      "metadata": {
        "colab": {
          "base_uri": "https://localhost:8080/",
          "height": 528
        },
        "id": "atPcU6HS4D5d",
        "outputId": "7c054e64-d70b-48d2-8b67-fe3c854e3f25"
      },
      "execution_count": 24,
      "outputs": [
        {
          "output_type": "display_data",
          "data": {
            "text/plain": [
              "<Figure size 1000x600 with 1 Axes>"
            ],
            "image/png": "[encoded data removed]"
          },
          "metadata": {}
        }
      ]
    },
    {
      "cell_type": "markdown",
      "source": [
        "# 2. Ventas por categoría"
      ],
      "metadata": {
        "id": "2V_vcAPzWZmR"
      }
    },
    {
      "cell_type": "code",
      "source": [
        "#Idem al anterior\n",
        "t1 = tienda.to_dict(\"records\")\n",
        "t2 = tienda2.to_dict(\"records\")\n",
        "t3 = tienda3.to_dict(\"records\")\n",
        "t4 = tienda4.to_dict(\"records\")"
      ],
      "metadata": {
        "id": "A34YupIuYhfF"
      },
      "execution_count": 26,
      "outputs": []
    },
    {
      "cell_type": "code",
      "source": [
        "#Idem al anterior\n",
        "categorias = [\n",
        "    \"Artículos para el hogar\",\n",
        "    \"Deportes y diversión\",\n",
        "    \"Electrodomésticos\",\n",
        "    \"Electrónicos\",\n",
        "    \"Instrumentos musicales\",\n",
        "    \"Juguetes\",\n",
        "    \"Libros\",\n",
        "    \"Muebles\"\n",
        "]"
      ],
      "metadata": {
        "id": "iQGup9W7OEEE"
      },
      "execution_count": 27,
      "outputs": []
    },
    {
      "cell_type": "code",
      "source": [
        "#Crea el diccionario Ventas_por_categoria y contamos\n",
        "#las ventas_por_categoria\n",
        "\n",
        "ventas_por_categoria = {cat: 0 for cat in categorias}"
      ],
      "metadata": {
        "id": "HVvoKTJcODiF"
      },
      "execution_count": 28,
      "outputs": []
    },
    {
      "cell_type": "code",
      "source": [
        "#Itera para saber la cantidad de productos que se vendieron\n",
        "#por cada categoría.\n",
        "#El if permite verificar si la categoría pertenece al diccionario\n",
        "\n",
        "for producto in t1 + t2 + t3 + t4:\n",
        "    categoria = producto[\"Categoría del Producto\"]\n",
        "    if categoria in ventas_por_categoria:\n",
        "        ventas_por_categoria[categoria] += 1"
      ],
      "metadata": {
        "id": "ACNXPwwbODRG"
      },
      "execution_count": 29,
      "outputs": []
    },
    {
      "cell_type": "code",
      "source": [
        "#Imprime las ventas por categorías\n",
        "print(\"Ventas por categoría:\")\n",
        "for categoria, cantidad in ventas_por_categoria.items():\n",
        "    print(f\"{categoria}: {cantidad} ventas\")"
      ],
      "metadata": {
        "id": "yZR6cOjXYSk1",
        "colab": {
          "base_uri": "https://localhost:8080/"
        },
        "outputId": "666bd770-2d48-4554-e6d3-4d44eabffba7"
      },
      "execution_count": 30,
      "outputs": [
        {
          "output_type": "stream",
          "name": "stdout",
          "text": [
            "Ventas por categoría:\n",
            "Artículos para el hogar: 730 ventas\n",
            "Deportes y diversión: 1113 ventas\n",
            "Electrodomésticos: 1149 ventas\n",
            "Electrónicos: 1772 ventas\n",
            "Instrumentos musicales: 753 ventas\n",
            "Juguetes: 1290 ventas\n",
            "Libros: 742 ventas\n",
            "Muebles: 1886 ventas\n"
          ]
        }
      ]
    },
    {
      "cell_type": "code",
      "source": [
        "import matplotlib.pyplot as plt"
      ],
      "metadata": {
        "id": "I8fI3Agm6sxa"
      },
      "execution_count": 32,
      "outputs": []
    },
    {
      "cell_type": "code",
      "source": [
        "categorias = list(ventas_por_categoria.keys())\n",
        "ventas = list(ventas_por_categoria.values())\n",
        "plt.figure(figsize=(10, 6))\n",
        "plt.bar(categorias, ventas)\n",
        "plt.title(\"Ventas por categoría (cantidad de productos vendidos)\")\n",
        "plt.xlabel(\"Categorías\")\n",
        "plt.ylabel(\"Cantidad de ventas\")\n",
        "plt.xticks(rotation=45)\n",
        "plt.tight_layout()\n",
        "plt.show()"
      ],
      "metadata": {
        "colab": {
          "base_uri": "https://localhost:8080/",
          "height": 528
        },
        "id": "eIpxi5lo6t-x",
        "outputId": "3dba3bcd-d1d5-427c-8c60-b6db361bf99a"
      },
      "execution_count": 33,
      "outputs": [
        {
          "output_type": "display_data",
          "data": {
            "text/plain": [
              "<Figure size 1000x600 with 1 Axes>"
            ],
            "image/png": "[encoded data removed]"
          },
          "metadata": {}
        }
      ]
    },
    {
      "cell_type": "markdown",
      "source": [
        "# 3. Calificación promedio de la tienda\n"
      ],
      "metadata": {
        "id": "Rq6tU_xSY3jk"
      }
    },
    {
      "cell_type": "code",
      "source": [
        "t1 = tienda.to_dict(\"records\")\n",
        "t2 = tienda2.to_dict(\"records\")\n",
        "t3 = tienda3.to_dict(\"records\")\n",
        "t4 = tienda4.to_dict(\"records\")"
      ],
      "metadata": {
        "id": "bh3jjjJwY5MU"
      },
      "execution_count": 37,
      "outputs": []
    },
    {
      "cell_type": "code",
      "source": [
        "def promedio_calificacion(lista_productos):\n",
        "    suma = 0\n",
        "    cantidad = 0\n",
        "    for producto in lista_productos:\n",
        "        calificacion = producto[\"Calificación\"]\n",
        "        suma += calificacion\n",
        "        cantidad += 1\n",
        "    promedio = suma / cantidad\n",
        "    return round(promedio, 2)"
      ],
      "metadata": {
        "id": "EJocjrfgOcVR"
      },
      "execution_count": 38,
      "outputs": []
    },
    {
      "cell_type": "code",
      "source": [
        "prom_t1 = promedio_calificacion(t1)\n",
        "prom_t2 = promedio_calificacion(t2)\n",
        "prom_t3 = promedio_calificacion(t3)\n",
        "prom_t4 = promedio_calificacion(t4)"
      ],
      "metadata": {
        "id": "t2CRAofPOb8T"
      },
      "execution_count": 39,
      "outputs": []
    },
    {
      "cell_type": "code",
      "source": [
        "print(\"Calificación promedio por tienda:\")\n",
        "print(f\"Tienda 1: {prom_t1}\")\n",
        "print(f\"Tienda 2: {prom_t2}\")\n",
        "print(f\"Tienda 3: {prom_t3}\")\n",
        "print(f\"Tienda 4: {prom_t4}\")"
      ],
      "metadata": {
        "colab": {
          "base_uri": "https://localhost:8080/"
        },
        "id": "B47zYp1LObs3",
        "outputId": "3708ed31-3792-4d66-c1bf-b41305f7af17"
      },
      "execution_count": 40,
      "outputs": [
        {
          "output_type": "stream",
          "name": "stdout",
          "text": [
            "Calificación promedio por tienda:\n",
            "Tienda 1: 3.98\n",
            "Tienda 2: 4.04\n",
            "Tienda 3: 4.05\n",
            "Tienda 4: 4.0\n"
          ]
        }
      ]
    },
    {
      "cell_type": "code",
      "source": [
        "import matplotlib.pyplot as plt\n"
      ],
      "metadata": {
        "id": "N7e_2AQe7UgP"
      },
      "execution_count": 41,
      "outputs": []
    },
    {
      "cell_type": "code",
      "source": [
        "tiendas = [\"Tienda 1\", \"Tienda 2\", \"Tienda 3\", \"Tienda 4\"]\n",
        "calificaciones = [prom_t1, prom_t2, prom_t3, prom_t4]\n",
        "\n",
        "# Idem al anterior y se agrega color azul cielo\n",
        "plt.figure(figsize=(8, 5))\n",
        "plt.bar(tiendas, calificaciones, color=\"skyblue\")\n",
        "\n",
        "# Idem al anterior y establece el valor mínimo (0) en el eje Y\n",
        "plt.title(\"Calificación promedio por tienda\")\n",
        "plt.xlabel(\"Tiendas\")\n",
        "plt.ylabel(\"Calificación (de 1 a 5)\")\n",
        "plt.ylim(0, 5)  # Limitar el eje Y para mostrar bien la escala\n",
        "#Idem al anterior\n",
        "plt.tight_layout()\n",
        "plt.show()"
      ],
      "metadata": {
        "colab": {
          "base_uri": "https://localhost:8080/",
          "height": 507
        },
        "id": "cGygRqOi7XBv",
        "outputId": "55568f52-39f2-4138-ff6c-2b5261560bca"
      },
      "execution_count": 42,
      "outputs": [
        {
          "output_type": "display_data",
          "data": {
            "text/plain": [
              "<Figure size 800x500 with 1 Axes>"
            ],
            "image/png": "[encoded data removed]"
          },
          "metadata": {}
        }
      ]
    },
    {
      "cell_type": "markdown",
      "source": [
        "La tienda 3 es la que tiene promedio más alto, pero es mínimo en comparación con las restantes. En términos generales las cuatro tiendas tiene un promedio excelente."
      ],
      "metadata": {
        "id": "bFF0-z5U8v8A"
      }
    },
    {
      "cell_type": "code",
      "source": [],
      "metadata": {
        "id": "OjFo1o_67IWY"
      },
      "execution_count": null,
      "outputs": []
    },
    {
      "cell_type": "markdown",
      "source": [
        "# 4. Productos más y menos vendidos"
      ],
      "metadata": {
        "id": "DmNp1KPBZCm-"
      }
    },
    {
      "cell_type": "code",
      "source": [
        "t1 = tienda.to_dict(\"records\")\n",
        "t2 = tienda2.to_dict(\"records\")\n",
        "t3 = tienda3.to_dict(\"records\")\n",
        "t4 = tienda4.to_dict(\"records\")"
      ],
      "metadata": {
        "id": "qoyjqijQZHfF"
      },
      "execution_count": 43,
      "outputs": []
    },
    {
      "cell_type": "code",
      "source": [
        "todos_los_productos = t1 + t2 + t3 + t4"
      ],
      "metadata": {
        "id": "0Sw3sd4IZIGW"
      },
      "execution_count": 44,
      "outputs": []
    },
    {
      "cell_type": "code",
      "source": [
        "ventas_por_producto = {}"
      ],
      "metadata": {
        "id": "ObVPsNalO9Vq"
      },
      "execution_count": 45,
      "outputs": []
    },
    {
      "cell_type": "code",
      "source": [
        "for producto in todos_los_productos:\n",
        "    nombre = producto[\"Producto\"]\n",
        "    if nombre in ventas_por_producto:\n",
        "        ventas_por_producto[nombre] += 1\n",
        "    else:\n",
        "        ventas_por_producto[nombre] = 1"
      ],
      "metadata": {
        "id": "YY2OTxFcO9HO"
      },
      "execution_count": 46,
      "outputs": []
    },
    {
      "cell_type": "code",
      "source": [
        "mas_vendido = max(ventas_por_producto, key=ventas_por_producto.get)\n",
        "menos_vendido = min(ventas_por_producto, key=ventas_por_producto.get)"
      ],
      "metadata": {
        "id": "tMPgp2JFPIaj"
      },
      "execution_count": 47,
      "outputs": []
    },
    {
      "cell_type": "code",
      "source": [
        "print(\"Producto más vendido:\")\n",
        "print(f\"{mas_vendido}: {ventas_por_producto[mas_vendido]} ventas\")\n",
        "\n",
        "print(\"\\n Producto menos vendido:\")\n",
        "print(f\"{menos_vendido}: {ventas_por_producto[menos_vendido]} ventas\")"
      ],
      "metadata": {
        "colab": {
          "base_uri": "https://localhost:8080/"
        },
        "id": "PjCXJssMPIM2",
        "outputId": "2ef92cd0-f339-49b5-9534-0ded14a0a317"
      },
      "execution_count": 48,
      "outputs": [
        {
          "output_type": "stream",
          "name": "stdout",
          "text": [
            "Producto más vendido:\n",
            "Mesa de noche: 210 ventas\n",
            "\n",
            " Producto menos vendido:\n",
            "Celular ABXY: 157 ventas\n"
          ]
        }
      ]
    },
    {
      "cell_type": "code",
      "source": [
        "import matplotlib.pyplot as plt"
      ],
      "metadata": {
        "id": "5QwIb8Cy9VLd"
      },
      "execution_count": 49,
      "outputs": []
    },
    {
      "cell_type": "code",
      "source": [
        "#Crear la listas\n",
        "productos = [mas_vendido, menos_vendido]\n",
        "ventas = [ventas_por_producto[mas_vendido], ventas_por_producto[menos_vendido]]\n",
        "\n",
        "# Idem al anterior\n",
        "#Se agrega el gráfico pie(pastel), coloca etiquetas (label)\n",
        "#Aplica autopct con un decimal para cada parte del pie y lo ordena\n",
        "# Axis permite que sea un círculo perfecto\n",
        "plt.figure(figsize=(6, 6))\n",
        "plt.pie(ventas, labels=productos, autopct=\"%1.1f%%\", startangle=90)\n",
        "plt.title(\"Producto más y menos vendido\")\n",
        "plt.axis(\"equal\")\n",
        "plt.tight_layout()\n",
        "plt.show()"
      ],
      "metadata": {
        "colab": {
          "base_uri": "https://localhost:8080/",
          "height": 607
        },
        "id": "jMIDZAtz9X7d",
        "outputId": "18414408-bdc2-4c58-b05a-209daca02432"
      },
      "execution_count": 50,
      "outputs": [
        {
          "output_type": "display_data",
          "data": {
            "text/plain": [
              "<Figure size 600x600 with 1 Axes>"
            ],
            "image/png": "[encoded data removed]"
          },
          "metadata": {}
        }
      ]
    },
    {
      "cell_type": "markdown",
      "source": [
        "# 5. Envío promedio por tienda"
      ],
      "metadata": {
        "id": "Fl0cGi3bZKqU"
      }
    },
    {
      "cell_type": "code",
      "source": [
        "t1 = tienda.to_dict(\"records\")\n",
        "t2 = tienda2.to_dict(\"records\")\n",
        "t3 = tienda3.to_dict(\"records\")\n",
        "t4 = tienda4.to_dict(\"records\")"
      ],
      "metadata": {
        "id": "S2JeaCykZNy9"
      },
      "execution_count": 57,
      "outputs": []
    },
    {
      "cell_type": "code",
      "source": [
        "def promedio_envio(lista_productos):\n",
        "    suma = 0\n",
        "    cantidad = 0\n",
        "    for producto in lista_productos:\n",
        "        envio = producto[\"Costo de envío\"]\n",
        "        suma += envio\n",
        "        cantidad += 1\n",
        "    promedio = suma / cantidad\n",
        "    return round(promedio, 2)"
      ],
      "metadata": {
        "id": "IKkD48N7Pdbv"
      },
      "execution_count": 58,
      "outputs": []
    },
    {
      "cell_type": "code",
      "source": [
        "envio_t1 = promedio_envio(t1)\n",
        "envio_t2 = promedio_envio(t2)\n",
        "envio_t3 = promedio_envio(t3)\n",
        "envio_t4 = promedio_envio(t4)"
      ],
      "metadata": {
        "id": "zGG-D3vbPdS1"
      },
      "execution_count": 59,
      "outputs": []
    },
    {
      "cell_type": "code",
      "source": [
        "print(\"Costo de envío promedio por tienda:\")\n",
        "print(f\"Tienda 1: L. {envio_t1}\")\n",
        "print(f\"Tienda 2: L. {envio_t2}\")\n",
        "print(f\"Tienda 3: L. {envio_t3}\")\n",
        "print(f\"Tienda 4: L. {envio_t4}\")"
      ],
      "metadata": {
        "colab": {
          "base_uri": "https://localhost:8080/"
        },
        "id": "hVWNSWXxPdJO",
        "outputId": "b6c9a02e-8d13-421c-f616-3e00ad0614e4"
      },
      "execution_count": 60,
      "outputs": [
        {
          "output_type": "stream",
          "name": "stdout",
          "text": [
            "Costo de envío promedio por tienda:\n",
            "Tienda 1: L. 26018.61\n",
            "Tienda 2: L. 25216.24\n",
            "Tienda 3: L. 24805.68\n",
            "Tienda 4: L. 23459.46\n"
          ]
        }
      ]
    },
    {
      "cell_type": "code",
      "source": [
        "import matplotlib.pyplot as plt"
      ],
      "metadata": {
        "id": "MOvzPoKI-34C"
      },
      "execution_count": 61,
      "outputs": []
    },
    {
      "cell_type": "code",
      "source": [
        "#Carga los datos de las tiendas a las listas\n",
        "tiendas = [\"Tienda 1\", \"Tienda 2\", \"Tienda 3\", \"Tienda 4\"]\n",
        "envios = [envio_t1, envio_t2, envio_t3, envio_t4]\n",
        "\n",
        "# Crear gráfico de barras horizontales\n",
        "plt.figure(figsize=(8, 5))\n",
        "plt.barh(tiendas, envios, color=\"lightblue\")\n",
        "\n",
        "# Títulos y etiquetas\n",
        "plt.title(\"Costo de envío promedio por tienda\")\n",
        "plt.xlabel(\"Lempiras\")\n",
        "plt.ylabel(\"Tiendas\")\n",
        "\n",
        "# Mostrar el valor más alto + margen\n",
        "plt.xlim(0, max(envios) + 5000)\n",
        "\n",
        "# Ajustar diseño\n",
        "plt.tight_layout()\n",
        "plt.show()\n"
      ],
      "metadata": {
        "colab": {
          "base_uri": "https://localhost:8080/",
          "height": 507
        },
        "id": "CLoangv2-3Mb",
        "outputId": "906f45e7-7637-435e-8e2c-13bf4d60613a"
      },
      "execution_count": 62,
      "outputs": [
        {
          "output_type": "display_data",
          "data": {
            "text/plain": [
              "<Figure size 800x500 with 1 Axes>"
            ],
            "image/png": "[encoded data removed]"
          },
          "metadata": {}
        }
      ]
    },
    {
      "cell_type": "code",
      "source": [],
      "metadata": {
        "id": "0tSdCie9ZQlt"
      },
      "execution_count": null,
      "outputs": []
    },
    {
      "cell_type": "markdown",
      "source": [
        "Recomendación:\n",
        "Después de revisar todos los datos, considero que la mejor opción para el Sr. João es vender sus productos en la Tienda 3 ya que tiene la calificación promedio más alta entre los clientes, lo que muestra la fidelidad de los mismos. Además, sus ingresos están muy cerca del primer lugar, lo que muestra un buen nivel de ventas.\n",
        "\n",
        "También ofrece productos dentro de las categorías más buscadas, como muebles, electrónicos y juguetes. Es importante tomar en cuenta que el costo de envío, está en un punto medio: no es el más bajo, pero tampoco es tan alto como para afectar al cliente.\n",
        "\n",
        "Conclusión: la Tienda 3 tiene una buena combinación de ventas, reputación (fidelidad del cliente) y precios razonables. Por eso, sería una excelente alternativa para que el Sr. João comience a ofrecer sus productos con éxito."
      ],
      "metadata": {
        "id": "57yytbNgCFsD"
      }
    }
  ]
}